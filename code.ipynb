{
 "cells": [
  {
   "cell_type": "code",
   "execution_count": 1,
   "metadata": {},
   "outputs": [],
   "source": [
    "import cv2\n",
    "import matplotlib.pyplot as plt\n",
    "no_plate=cv2.CascadeClassifier(r'C:\\Comuter Vision\\project\\no_plate\\haarcascade_russian_plate_number.xml')"
   ]
  },
  {
   "cell_type": "code",
   "execution_count": 2,
   "metadata": {},
   "outputs": [
    {
     "data": {
      "text/plain": [
       "array([[[135, 117, 170],\n",
       "        [135, 117, 170],\n",
       "        [135, 117, 170],\n",
       "        ...,\n",
       "        [142, 123, 187],\n",
       "        [142, 123, 187],\n",
       "        [142, 123, 187]],\n",
       "\n",
       "       [[135, 116, 172],\n",
       "        [135, 116, 172],\n",
       "        [135, 116, 172],\n",
       "        ...,\n",
       "        [141, 122, 186],\n",
       "        [141, 122, 186],\n",
       "        [141, 122, 186]],\n",
       "\n",
       "       [[135, 116, 173],\n",
       "        [135, 116, 173],\n",
       "        [135, 116, 173],\n",
       "        ...,\n",
       "        [140, 120, 185],\n",
       "        [140, 120, 185],\n",
       "        [140, 120, 185]],\n",
       "\n",
       "       ...,\n",
       "\n",
       "       [[  0,   4,  65],\n",
       "        [  0,   4,  65],\n",
       "        [  0,   4,  65],\n",
       "        ...,\n",
       "        [  0,   7,  79],\n",
       "        [  0,   7,  81],\n",
       "        [  0,   7,  81]],\n",
       "\n",
       "       [[  0,   3,  64],\n",
       "        [  0,   3,  64],\n",
       "        [  0,   3,  64],\n",
       "        ...,\n",
       "        [  0,   6,  78],\n",
       "        [  0,   6,  78],\n",
       "        [  0,   6,  78]],\n",
       "\n",
       "       [[  0,   3,  64],\n",
       "        [  0,   3,  64],\n",
       "        [  0,   3,  64],\n",
       "        ...,\n",
       "        [  0,   7,  76],\n",
       "        [  0,   6,  78],\n",
       "        [  0,   6,  78]]], dtype=uint8)"
      ]
     },
     "execution_count": 2,
     "metadata": {},
     "output_type": "execute_result"
    }
   ],
   "source": [
    "img=cv2.imread(r'C:\\Comuter Vision\\project\\no_plate\\numplate.jpg')\n",
    "img"
   ]
  },
  {
   "cell_type": "code",
   "execution_count": 3,
   "metadata": {},
   "outputs": [],
   "source": [
    "img=cv2.cvtColor(img,cv2.COLOR_BGR2RGB)\n",
    "gray=cv2.cvtColor(img,cv2.COLOR_RGB2GRAY)"
   ]
  },
  {
   "cell_type": "code",
   "execution_count": 4,
   "metadata": {},
   "outputs": [],
   "source": [
    "\n",
    "\n",
    "\n",
    "plates = no_plate.detectMultiScale(gray, scaleFactor=1.1, minNeighbors=5, minSize=(25, 25))\n",
    "\n",
    "# Draw bounding boxes around the detected license plates\n",
    "for (x, y, w, h) in plates:\n",
    "    cv2.rectangle(img, (x, y), (x+w, y+h), (0, 255, 0), 2)\n",
    "\n",
    "# Display the image with bounding boxes around the detected license plates\n",
    "cv2.imshow(\"License plates found\", img)\n",
    "cv2.waitKey(0)\n",
    "cv2.destroyAllWindows()"
   ]
  },
  {
   "cell_type": "code",
   "execution_count": null,
   "metadata": {},
   "outputs": [],
   "source": [
    "# cv2.imshow(\"Number plate\",number_plate)\n",
    "\n",
    "# cv2.imshow(\"Number plate detection\", img)\n",
    "# cv2.waitKey(0)\n",
    "# cv2.destroyAllWindows()"
   ]
  },
  {
   "cell_type": "code",
   "execution_count": null,
   "metadata": {},
   "outputs": [],
   "source": [
    "vdo=cv2.VideoCapture(r'C:\\Comuter Vision\\face_detection\\VID_20201213_100726.mp4')\n",
    "while True: \n",
    "    success,frame=vdo.read()\n",
    "    gray=cv2.cvtColor(frame,cv2.COLOR_BGR2GRAY)\n",
    "    plates=no_plate.detectMultiScale(gray,scaleFactor=1.1,minNeighbors=10)\n",
    "    #print(len(faces))\n",
    "    for (x,y,w,h) in plates:\n",
    "        cv2.rectangle(frame,(x,y),(x+w,y+h),color=(255,0,0),thickness=4)\n",
    "    cv2.imshow('vdo',frame)\n",
    "    if cv2.waitKey(1) & 0XFF==27:\n",
    "        break\n",
    "vdo.release()\n",
    "cv2.destroyAllWindows()"
   ]
  }
 ],
 "metadata": {
  "kernelspec": {
   "display_name": "Python 3",
   "language": "python",
   "name": "python3"
  },
  "language_info": {
   "codemirror_mode": {
    "name": "ipython",
    "version": 3
   },
   "file_extension": ".py",
   "mimetype": "text/x-python",
   "name": "python",
   "nbconvert_exporter": "python",
   "pygments_lexer": "ipython3",
   "version": "3.10.7"
  },
  "orig_nbformat": 4,
  "vscode": {
   "interpreter": {
    "hash": "7bfb20dd83853995a52bf3c4e120dba89ceb38f4b9bf2f73b91b322190fe65fb"
   }
  }
 },
 "nbformat": 4,
 "nbformat_minor": 2
}
